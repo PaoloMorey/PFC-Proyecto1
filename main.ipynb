{
 "cells": [
  {
   "cell_type": "markdown",
   "metadata": {},
   "source": [
    "# Data preprocessing"
   ]
  },
  {
   "cell_type": "code",
   "execution_count": 11,
   "metadata": {},
   "outputs": [],
   "source": [
    "import csv\n",
    "import numpy as np\n",
    "from sklearn.preprocessing import MinMaxScaler\n",
    "from sklearn.metrics import mean_absolute_error, mean_absolute_percentage_error, mean_squared_error, r2_score, explained_variance_score\n",
    "\n",
    "data = []\n",
    "scaler = MinMaxScaler()\n",
    "\n",
    "def create_dataset(dataset, look_back=12):\n",
    "    dataX, dataY = [], []\n",
    "    for i in range(len(dataset)-look_back-1):\n",
    "        aux = dataset[i:(i+look_back)]\n",
    "        dataX.append(aux)\n",
    "        dataY.append(dataset[i + look_back])\n",
    "    return np.array(dataX), np.array(dataY)\n",
    "\n",
    "def get_average(row, col, data):\n",
    "    sum = 0\n",
    "    for i in range(row-12, row, 1):\n",
    "        sum+=data[i][col]\n",
    "    return sum/12\n",
    "\n",
    "\n",
    "def remove_missing_values(data):\n",
    "    for i in range(len(data)):\n",
    "        for j in range(len(data[i])):\n",
    "            if data[i][j] == 0:\n",
    "                data[i][j] = get_average(i, j, data)\n",
    "\n",
    "\n",
    "with open('./datasets/traffic-prediction-dataset.csv') as csv_file:\n",
    "    csv_reader = csv.reader(csv_file, delimiter=',')\n",
    "    next(csv_reader)\n",
    "    for row in csv_reader:\n",
    "        row_to_append = [float(x) for x in row[0:4]]\n",
    "        data.append(row_to_append)\n",
    "\n",
    "remove_missing_values(data)"
   ]
  },
  {
   "cell_type": "code",
   "execution_count": 13,
   "metadata": {},
   "outputs": [
    {
     "data": {
      "text/plain": [
       "array([[0.296875  , 0.15754561, 0.13364055, 0.19743178],\n",
       "       [0.27414773, 0.13432836, 0.14285714, 0.17495987],\n",
       "       [0.21448864, 0.15422886, 0.19815668, 0.18459069],\n",
       "       ...,\n",
       "       [0.234375  , 0.11111111, 0.15207373, 0.19422151],\n",
       "       [0.25142045, 0.12769486, 0.11059908, 0.15248796],\n",
       "       [0.18607955, 0.11774461, 0.11520737, 0.15890851]])"
      ]
     },
     "execution_count": 13,
     "metadata": {},
     "output_type": "execute_result"
    }
   ],
   "source": [
    "scaler.fit(data)\n",
    "normalized_data = scaler.transform(data)\n",
    "normalized_data"
   ]
  },
  {
   "cell_type": "markdown",
   "metadata": {},
   "source": [
    "# Train and Test Sets"
   ]
  },
  {
   "cell_type": "code",
   "execution_count": 14,
   "metadata": {},
   "outputs": [],
   "source": [
    "train_size = int(len(normalized_data) * 0.75)\n",
    "test_size = len(normalized_data) - train_size\n",
    "\n",
    "train, test = normalized_data[0:train_size,:], normalized_data[train_size:len(normalized_data),:]\n",
    "x_train, y_train = create_dataset(train)\n",
    "x_test, y_test = create_dataset(test)\n",
    "y_real = scaler.inverse_transform(y_test)"
   ]
  },
  {
   "cell_type": "markdown",
   "metadata": {},
   "source": [
    "# Recurrent Neural Networks"
   ]
  },
  {
   "cell_type": "code",
   "execution_count": 15,
   "metadata": {},
   "outputs": [],
   "source": [
    "train_rnn_size = int(len(x_train)*0.95)\n",
    "\n",
    "x_train_rnn, y_train_rnn = x_train[0:train_rnn_size,:], y_train[0:train_rnn_size,:]\n",
    "x_val_rnn, y_val_rnn = x_train[train_rnn_size:len(x_train),:], y_train[train_rnn_size:len(y_train),:]"
   ]
  },
  {
   "cell_type": "markdown",
   "metadata": {},
   "source": [
    "## Training LSTM-NN"
   ]
  },
  {
   "cell_type": "code",
   "execution_count": 23,
   "metadata": {},
   "outputs": [
    {
     "name": "stderr",
     "output_type": "stream",
     "text": [
      "2022-11-08 21:16:29.225064: I tensorflow/core/platform/cpu_feature_guard.cc:193] This TensorFlow binary is optimized with oneAPI Deep Neural Network Library (oneDNN) to use the following CPU instructions in performance-critical operations:  AVX2 AVX512F AVX512_VNNI FMA\n",
      "To enable them in other operations, rebuild TensorFlow with the appropriate compiler flags.\n",
      "2022-11-08 21:16:29.654381: I tensorflow/core/util/util.cc:169] oneDNN custom operations are on. You may see slightly different numerical results due to floating-point round-off errors from different computation orders. To turn them off, set the environment variable `TF_ENABLE_ONEDNN_OPTS=0`.\n",
      "2022-11-08 21:16:29.770137: W tensorflow/stream_executor/platform/default/dso_loader.cc:64] Could not load dynamic library 'libcudart.so.11.0'; dlerror: libcudart.so.11.0: cannot open shared object file: No such file or directory\n",
      "2022-11-08 21:16:29.770150: I tensorflow/stream_executor/cuda/cudart_stub.cc:29] Ignore above cudart dlerror if you do not have a GPU set up on your machine.\n",
      "2022-11-08 21:16:29.833723: E tensorflow/stream_executor/cuda/cuda_blas.cc:2981] Unable to register cuBLAS factory: Attempting to register factory for plugin cuBLAS when one has already been registered\n",
      "2022-11-08 21:16:31.033518: W tensorflow/stream_executor/platform/default/dso_loader.cc:64] Could not load dynamic library 'libnvinfer.so.7'; dlerror: libnvinfer.so.7: cannot open shared object file: No such file or directory\n",
      "2022-11-08 21:16:31.033629: W tensorflow/stream_executor/platform/default/dso_loader.cc:64] Could not load dynamic library 'libnvinfer_plugin.so.7'; dlerror: libnvinfer_plugin.so.7: cannot open shared object file: No such file or directory\n",
      "2022-11-08 21:16:31.033635: W tensorflow/compiler/tf2tensorrt/utils/py_utils.cc:38] TF-TRT Warning: Cannot dlopen some TensorRT libraries. If you would like to use Nvidia GPU with TensorRT, please make sure the missing libraries mentioned above are installed properly.\n",
      "2022-11-08 21:16:32.435728: E tensorflow/stream_executor/cuda/cuda_driver.cc:265] failed call to cuInit: CUDA_ERROR_NO_DEVICE: no CUDA-capable device is detected\n",
      "2022-11-08 21:16:32.435761: I tensorflow/stream_executor/cuda/cuda_diagnostics.cc:156] kernel driver does not appear to be running on this host (paolo-Pulse-GL66-11UGKV): /proc/driver/nvidia/version does not exist\n",
      "2022-11-08 21:16:32.437127: I tensorflow/core/platform/cpu_feature_guard.cc:193] This TensorFlow binary is optimized with oneAPI Deep Neural Network Library (oneDNN) to use the following CPU instructions in performance-critical operations:  AVX2 AVX512F AVX512_VNNI FMA\n",
      "To enable them in other operations, rebuild TensorFlow with the appropriate compiler flags.\n"
     ]
    },
    {
     "name": "stdout",
     "output_type": "stream",
     "text": [
      "Model: \"sequential\"\n",
      "_________________________________________________________________\n",
      " Layer (type)                Output Shape              Param #   \n",
      "=================================================================\n",
      " lstm (LSTM)                 (None, 12, 64)            17664     \n",
      "                                                                 \n",
      " lstm_1 (LSTM)               (None, 64)                33024     \n",
      "                                                                 \n",
      " dropout (Dropout)           (None, 64)                0         \n",
      "                                                                 \n",
      " dense (Dense)               (None, 4)                 260       \n",
      "                                                                 \n",
      "=================================================================\n",
      "Total params: 50,948\n",
      "Trainable params: 50,948\n",
      "Non-trainable params: 0\n",
      "_________________________________________________________________\n",
      "Epoch 1/50\n",
      "90/90 [==============================] - 5s 25ms/step - loss: 0.0113 - val_loss: 0.0044\n",
      "Epoch 2/50\n",
      "90/90 [==============================] - 2s 18ms/step - loss: 0.0055 - val_loss: 0.0030\n",
      "Epoch 3/50\n",
      "90/90 [==============================] - 2s 18ms/step - loss: 0.0042 - val_loss: 0.0025\n",
      "Epoch 4/50\n",
      "90/90 [==============================] - 2s 18ms/step - loss: 0.0035 - val_loss: 0.0022\n",
      "Epoch 5/50\n",
      "90/90 [==============================] - 2s 18ms/step - loss: 0.0031 - val_loss: 0.0026\n",
      "Epoch 6/50\n",
      "90/90 [==============================] - 2s 18ms/step - loss: 0.0029 - val_loss: 0.0019\n",
      "Epoch 7/50\n",
      "90/90 [==============================] - 2s 18ms/step - loss: 0.0028 - val_loss: 0.0021\n",
      "Epoch 8/50\n",
      "90/90 [==============================] - 2s 18ms/step - loss: 0.0026 - val_loss: 0.0021\n",
      "Epoch 9/50\n",
      "90/90 [==============================] - 2s 18ms/step - loss: 0.0025 - val_loss: 0.0026\n",
      "Epoch 10/50\n",
      "90/90 [==============================] - 2s 18ms/step - loss: 0.0025 - val_loss: 0.0019\n",
      "Epoch 11/50\n",
      "90/90 [==============================] - 2s 18ms/step - loss: 0.0024 - val_loss: 0.0019\n",
      "Epoch 12/50\n",
      "90/90 [==============================] - 2s 19ms/step - loss: 0.0023 - val_loss: 0.0025\n",
      "Epoch 13/50\n",
      "90/90 [==============================] - 2s 22ms/step - loss: 0.0023 - val_loss: 0.0019\n",
      "Epoch 14/50\n",
      "90/90 [==============================] - 2s 24ms/step - loss: 0.0023 - val_loss: 0.0021\n",
      "Epoch 15/50\n",
      "90/90 [==============================] - 3s 29ms/step - loss: 0.0022 - val_loss: 0.0018\n",
      "Epoch 16/50\n",
      "90/90 [==============================] - 3s 35ms/step - loss: 0.0022 - val_loss: 0.0018\n",
      "Epoch 17/50\n",
      "90/90 [==============================] - 3s 38ms/step - loss: 0.0021 - val_loss: 0.0019\n",
      "Epoch 18/50\n",
      "90/90 [==============================] - 3s 38ms/step - loss: 0.0021 - val_loss: 0.0019\n",
      "Epoch 19/50\n",
      "90/90 [==============================] - 3s 38ms/step - loss: 0.0021 - val_loss: 0.0018\n",
      "Epoch 20/50\n",
      "90/90 [==============================] - 3s 39ms/step - loss: 0.0021 - val_loss: 0.0019\n",
      "Epoch 21/50\n",
      "90/90 [==============================] - 4s 40ms/step - loss: 0.0021 - val_loss: 0.0019\n",
      "Epoch 22/50\n",
      "90/90 [==============================] - 4s 39ms/step - loss: 0.0021 - val_loss: 0.0018\n",
      "Epoch 23/50\n",
      "90/90 [==============================] - 4s 41ms/step - loss: 0.0020 - val_loss: 0.0019\n",
      "Epoch 24/50\n",
      "90/90 [==============================] - 4s 42ms/step - loss: 0.0020 - val_loss: 0.0020\n",
      "Epoch 25/50\n",
      "90/90 [==============================] - 4s 40ms/step - loss: 0.0020 - val_loss: 0.0019\n",
      "Epoch 26/50\n",
      "90/90 [==============================] - 4s 41ms/step - loss: 0.0020 - val_loss: 0.0019\n",
      "Epoch 27/50\n",
      "90/90 [==============================] - 4s 40ms/step - loss: 0.0020 - val_loss: 0.0018\n",
      "Epoch 28/50\n",
      "90/90 [==============================] - 4s 41ms/step - loss: 0.0020 - val_loss: 0.0018\n",
      "Epoch 29/50\n",
      "90/90 [==============================] - 4s 41ms/step - loss: 0.0020 - val_loss: 0.0018\n",
      "Epoch 30/50\n",
      "90/90 [==============================] - 4s 40ms/step - loss: 0.0020 - val_loss: 0.0018\n",
      "Epoch 31/50\n",
      "90/90 [==============================] - 4s 40ms/step - loss: 0.0020 - val_loss: 0.0019\n",
      "Epoch 32/50\n",
      "90/90 [==============================] - 4s 41ms/step - loss: 0.0019 - val_loss: 0.0018\n",
      "Epoch 33/50\n",
      "90/90 [==============================] - 4s 42ms/step - loss: 0.0019 - val_loss: 0.0018\n",
      "Epoch 34/50\n",
      "90/90 [==============================] - 4s 39ms/step - loss: 0.0019 - val_loss: 0.0018\n",
      "Epoch 35/50\n",
      "90/90 [==============================] - 4s 40ms/step - loss: 0.0019 - val_loss: 0.0019\n",
      "Epoch 36/50\n",
      "90/90 [==============================] - 4s 41ms/step - loss: 0.0019 - val_loss: 0.0018\n",
      "Epoch 37/50\n",
      "90/90 [==============================] - 4s 41ms/step - loss: 0.0019 - val_loss: 0.0019\n",
      "Epoch 38/50\n",
      "90/90 [==============================] - 4s 43ms/step - loss: 0.0019 - val_loss: 0.0018\n",
      "Epoch 39/50\n",
      "90/90 [==============================] - 4s 41ms/step - loss: 0.0019 - val_loss: 0.0018\n",
      "Epoch 40/50\n",
      "90/90 [==============================] - 4s 41ms/step - loss: 0.0019 - val_loss: 0.0018\n",
      "Epoch 41/50\n",
      "90/90 [==============================] - 4s 41ms/step - loss: 0.0019 - val_loss: 0.0018\n",
      "Epoch 42/50\n",
      "90/90 [==============================] - 4s 39ms/step - loss: 0.0019 - val_loss: 0.0018\n",
      "Epoch 43/50\n",
      "90/90 [==============================] - 3s 38ms/step - loss: 0.0019 - val_loss: 0.0019\n",
      "Epoch 44/50\n",
      "90/90 [==============================] - 4s 40ms/step - loss: 0.0019 - val_loss: 0.0018\n",
      "Epoch 45/50\n",
      "90/90 [==============================] - 3s 38ms/step - loss: 0.0019 - val_loss: 0.0019\n",
      "Epoch 46/50\n",
      "90/90 [==============================] - 4s 43ms/step - loss: 0.0019 - val_loss: 0.0018\n",
      "Epoch 47/50\n",
      "90/90 [==============================] - 4s 44ms/step - loss: 0.0019 - val_loss: 0.0018\n",
      "Epoch 48/50\n",
      "90/90 [==============================] - 4s 41ms/step - loss: 0.0019 - val_loss: 0.0018\n",
      "Epoch 49/50\n",
      "90/90 [==============================] - 3s 39ms/step - loss: 0.0019 - val_loss: 0.0020\n",
      "Epoch 50/50\n",
      "90/90 [==============================] - 3s 38ms/step - loss: 0.0019 - val_loss: 0.0019\n"
     ]
    },
    {
     "data": {
      "text/plain": [
       "<keras.callbacks.History at 0x7f5405fe6940>"
      ]
     },
     "execution_count": 23,
     "metadata": {},
     "output_type": "execute_result"
    }
   ],
   "source": [
    "from keras import Input\n",
    "from keras.models import Sequential \n",
    "from keras.layers import Dense, Dropout, InputLayer\n",
    "from keras.layers import LSTM\n",
    "from keras.callbacks import History \n",
    "\n",
    "history_lstm = History()\n",
    "\n",
    "\n",
    "lstm_model = Sequential()\n",
    "lstm_model.add(InputLayer(input_shape=(12, 4)))\n",
    "lstm_model.add(LSTM(64, return_sequences=True))\n",
    "lstm_model.add(LSTM(64))\n",
    "lstm_model.add(Dropout(0.2))\n",
    "lstm_model.add(Dense(4))\n",
    "lstm_model.compile(loss='mean_squared_error', optimizer='rmsprop')\n",
    "lstm_model.summary()\n",
    "\n",
    "lstm_model.fit(x_train_rnn, y_train_rnn, epochs=50, batch_size=128, validation_data=(x_val_rnn, y_val_rnn), callbacks=[history_lstm])"
   ]
  },
  {
   "cell_type": "code",
   "execution_count": 24,
   "metadata": {},
   "outputs": [
    {
     "data": {
      "image/png": "[encoded data removed]",
      "text/plain": [
       "<Figure size 432x288 with 1 Axes>"
      ]
     },
     "metadata": {
      "needs_background": "light"
     },
     "output_type": "display_data"
    }
   ],
   "source": [
    "import matplotlib.pyplot as plt\n",
    "\n",
    "epochs = [i+1 for i in range(50)]\n",
    "loss_lstm = history_lstm.history['loss']\n",
    "val_loss_lstm = history_lstm.history['val_loss']\n",
    "\n",
    "plt.plot(epochs, loss_lstm)\n",
    "plt.plot(epochs, val_loss_lstm)\n",
    "plt.xlabel(\"epochs\")\n",
    "plt.ylabel(\"loss metrics\")\n",
    "plt.legend(['loss', 'val_loss'])\n",
    "plt.savefig(\"loss_lstm.jpg\")"
   ]
  },
  {
   "cell_type": "markdown",
   "metadata": {},
   "source": [
    "## Testing LSTM-NN"
   ]
  },
  {
   "cell_type": "code",
   "execution_count": 25,
   "metadata": {},
   "outputs": [
    {
     "name": "stdout",
     "output_type": "stream",
     "text": [
      "126/126 [==============================] - 3s 12ms/step\n",
      "Mean Absolute error: 10.863333462227251\n",
      "Mean Absolute Percentage error: 0.23787023934242313\n",
      "Mean Squared error: 15.322384533716498\n",
      "R-Squared score: 0.9307414225472641\n",
      "Explained Variance score: 0.9338203868287869\n"
     ]
    }
   ],
   "source": [
    "y_pred_lstm = lstm_model.predict(x_test)\n",
    "\n",
    "y_real_pred_lstm = scaler.inverse_transform(y_pred_lstm)\n",
    " \n",
    "print(\"Mean Absolute error:\", mean_absolute_error(y_real, y_real_pred_lstm))\n",
    "print(\"Mean Absolute Percentage error:\", mean_absolute_percentage_error(y_real, y_real_pred_lstm))\n",
    "print(\"Mean Squared error:\", mean_squared_error(y_real, y_real_pred_lstm, squared=False))\n",
    "print(\"R-Squared score:\", r2_score(y_real, y_real_pred_lstm))\n",
    "print(\"Explained Variance score:\", explained_variance_score(y_real, y_real_pred_lstm))"
   ]
  },
  {
   "cell_type": "markdown",
   "metadata": {},
   "source": [
    "## Training GRU-NN"
   ]
  },
  {
   "cell_type": "code",
   "execution_count": 26,
   "metadata": {},
   "outputs": [
    {
     "name": "stdout",
     "output_type": "stream",
     "text": [
      "Model: \"sequential_1\"\n",
      "_________________________________________________________________\n",
      " Layer (type)                Output Shape              Param #   \n",
      "=================================================================\n",
      " gru (GRU)                   (None, 12, 64)            13440     \n",
      "                                                                 \n",
      " gru_1 (GRU)                 (None, 64)                24960     \n",
      "                                                                 \n",
      " dropout_1 (Dropout)         (None, 64)                0         \n",
      "                                                                 \n",
      " dense_1 (Dense)             (None, 4)                 260       \n",
      "                                                                 \n",
      "=================================================================\n",
      "Total params: 38,660\n",
      "Trainable params: 38,660\n",
      "Non-trainable params: 0\n",
      "_________________________________________________________________\n",
      "Epoch 1/50\n",
      "90/90 [==============================] - 16s 69ms/step - loss: 0.0078 - val_loss: 0.0028\n",
      "Epoch 2/50\n",
      "90/90 [==============================] - 4s 40ms/step - loss: 0.0039 - val_loss: 0.0040\n",
      "Epoch 3/50\n",
      "90/90 [==============================] - 3s 39ms/step - loss: 0.0034 - val_loss: 0.0023\n",
      "Epoch 4/50\n",
      "90/90 [==============================] - 3s 37ms/step - loss: 0.0031 - val_loss: 0.0022\n",
      "Epoch 5/50\n",
      "90/90 [==============================] - 3s 37ms/step - loss: 0.0030 - val_loss: 0.0021\n",
      "Epoch 6/50\n",
      "90/90 [==============================] - 3s 38ms/step - loss: 0.0028 - val_loss: 0.0021\n",
      "Epoch 7/50\n",
      "90/90 [==============================] - 3s 36ms/step - loss: 0.0027 - val_loss: 0.0022\n",
      "Epoch 8/50\n",
      "90/90 [==============================] - 4s 40ms/step - loss: 0.0026 - val_loss: 0.0020\n",
      "Epoch 9/50\n",
      "90/90 [==============================] - 4s 41ms/step - loss: 0.0025 - val_loss: 0.0020\n",
      "Epoch 10/50\n",
      "90/90 [==============================] - 3s 36ms/step - loss: 0.0025 - val_loss: 0.0024\n",
      "Epoch 11/50\n",
      "90/90 [==============================] - 3s 37ms/step - loss: 0.0024 - val_loss: 0.0020\n",
      "Epoch 12/50\n",
      "90/90 [==============================] - 3s 35ms/step - loss: 0.0024 - val_loss: 0.0019\n",
      "Epoch 13/50\n",
      "90/90 [==============================] - 3s 37ms/step - loss: 0.0023 - val_loss: 0.0026\n",
      "Epoch 14/50\n",
      "90/90 [==============================] - 4s 40ms/step - loss: 0.0023 - val_loss: 0.0018\n",
      "Epoch 15/50\n",
      "90/90 [==============================] - 4s 43ms/step - loss: 0.0023 - val_loss: 0.0019\n",
      "Epoch 16/50\n",
      "90/90 [==============================] - 4s 41ms/step - loss: 0.0022 - val_loss: 0.0019\n",
      "Epoch 17/50\n",
      "90/90 [==============================] - 4s 46ms/step - loss: 0.0022 - val_loss: 0.0020\n",
      "Epoch 18/50\n",
      "90/90 [==============================] - 4s 41ms/step - loss: 0.0022 - val_loss: 0.0022\n",
      "Epoch 19/50\n",
      "90/90 [==============================] - 4s 43ms/step - loss: 0.0022 - val_loss: 0.0019\n",
      "Epoch 20/50\n",
      "90/90 [==============================] - 4s 41ms/step - loss: 0.0021 - val_loss: 0.0019\n",
      "Epoch 21/50\n",
      "90/90 [==============================] - 3s 38ms/step - loss: 0.0021 - val_loss: 0.0021\n",
      "Epoch 22/50\n",
      "90/90 [==============================] - 3s 38ms/step - loss: 0.0021 - val_loss: 0.0021\n",
      "Epoch 23/50\n",
      "90/90 [==============================] - 4s 42ms/step - loss: 0.0021 - val_loss: 0.0020\n",
      "Epoch 24/50\n",
      "90/90 [==============================] - 4s 40ms/step - loss: 0.0021 - val_loss: 0.0019\n",
      "Epoch 25/50\n",
      "90/90 [==============================] - 4s 39ms/step - loss: 0.0021 - val_loss: 0.0019\n",
      "Epoch 26/50\n",
      "90/90 [==============================] - 4s 44ms/step - loss: 0.0020 - val_loss: 0.0019\n",
      "Epoch 27/50\n",
      "90/90 [==============================] - 4s 44ms/step - loss: 0.0020 - val_loss: 0.0018\n",
      "Epoch 28/50\n",
      "90/90 [==============================] - 4s 44ms/step - loss: 0.0020 - val_loss: 0.0019\n",
      "Epoch 29/50\n",
      "90/90 [==============================] - 4s 43ms/step - loss: 0.0020 - val_loss: 0.0019\n",
      "Epoch 30/50\n",
      "90/90 [==============================] - 4s 40ms/step - loss: 0.0020 - val_loss: 0.0021\n",
      "Epoch 31/50\n",
      "90/90 [==============================] - 4s 43ms/step - loss: 0.0020 - val_loss: 0.0021\n",
      "Epoch 32/50\n",
      "90/90 [==============================] - 4s 40ms/step - loss: 0.0020 - val_loss: 0.0020\n",
      "Epoch 33/50\n",
      "90/90 [==============================] - 3s 36ms/step - loss: 0.0020 - val_loss: 0.0019\n",
      "Epoch 34/50\n",
      "90/90 [==============================] - 3s 37ms/step - loss: 0.0020 - val_loss: 0.0019\n",
      "Epoch 35/50\n",
      "90/90 [==============================] - 3s 36ms/step - loss: 0.0019 - val_loss: 0.0021\n",
      "Epoch 36/50\n",
      "90/90 [==============================] - 3s 37ms/step - loss: 0.0019 - val_loss: 0.0021\n",
      "Epoch 37/50\n",
      "90/90 [==============================] - 4s 40ms/step - loss: 0.0020 - val_loss: 0.0018\n",
      "Epoch 38/50\n",
      "90/90 [==============================] - 4s 42ms/step - loss: 0.0019 - val_loss: 0.0019\n",
      "Epoch 39/50\n",
      "90/90 [==============================] - 3s 37ms/step - loss: 0.0020 - val_loss: 0.0020\n",
      "Epoch 40/50\n",
      "90/90 [==============================] - 3s 39ms/step - loss: 0.0019 - val_loss: 0.0018\n",
      "Epoch 41/50\n",
      "90/90 [==============================] - 4s 41ms/step - loss: 0.0019 - val_loss: 0.0020\n",
      "Epoch 42/50\n",
      "90/90 [==============================] - 4s 39ms/step - loss: 0.0019 - val_loss: 0.0018\n",
      "Epoch 43/50\n",
      "90/90 [==============================] - 3s 36ms/step - loss: 0.0019 - val_loss: 0.0018\n",
      "Epoch 44/50\n",
      "90/90 [==============================] - 3s 38ms/step - loss: 0.0019 - val_loss: 0.0019\n",
      "Epoch 45/50\n",
      "90/90 [==============================] - 4s 41ms/step - loss: 0.0019 - val_loss: 0.0018\n",
      "Epoch 46/50\n",
      "90/90 [==============================] - 3s 38ms/step - loss: 0.0019 - val_loss: 0.0018\n",
      "Epoch 47/50\n",
      "90/90 [==============================] - 4s 39ms/step - loss: 0.0019 - val_loss: 0.0018\n",
      "Epoch 48/50\n",
      "90/90 [==============================] - 3s 38ms/step - loss: 0.0019 - val_loss: 0.0020\n",
      "Epoch 49/50\n",
      "90/90 [==============================] - 3s 36ms/step - loss: 0.0019 - val_loss: 0.0018\n",
      "Epoch 50/50\n",
      "90/90 [==============================] - 4s 41ms/step - loss: 0.0019 - val_loss: 0.0019\n"
     ]
    },
    {
     "data": {
      "text/plain": [
       "<keras.callbacks.History at 0x7f5300a80ca0>"
      ]
     },
     "execution_count": 26,
     "metadata": {},
     "output_type": "execute_result"
    }
   ],
   "source": [
    "from keras.layers import GRU\n",
    "\n",
    "history_gru = History()\n",
    "\n",
    "gru_model = Sequential()\n",
    "gru_model.add(InputLayer(input_shape=(12, 4)))\n",
    "gru_model.add(GRU(64, return_sequences=True))\n",
    "gru_model.add(GRU(64))\n",
    "gru_model.add(Dropout(0.2))\n",
    "gru_model.add(Dense(4))\n",
    "gru_model.compile(loss='mean_squared_error', optimizer='rmsprop')\n",
    "gru_model.summary()\n",
    "\n",
    "gru_model.fit(x_train_rnn, y_train_rnn, epochs=50, batch_size=128, validation_data=(x_val_rnn, y_val_rnn), callbacks=[history_gru])"
   ]
  },
  {
   "cell_type": "code",
   "execution_count": 27,
   "metadata": {},
   "outputs": [
    {
     "data": {
      "image/png": "[encoded data removed]",
      "text/plain": [
       "<Figure size 432x288 with 1 Axes>"
      ]
     },
     "metadata": {
      "needs_background": "light"
     },
     "output_type": "display_data"
    }
   ],
   "source": [
    "epochs = [i+1 for i in range(50)]\n",
    "loss_gru = history_gru.history['loss']\n",
    "val_loss_gru = history_gru.history['val_loss']\n",
    "\n",
    "plt.plot(epochs, loss_gru)\n",
    "plt.plot(epochs, val_loss_gru)\n",
    "plt.xlabel(\"epochs\")\n",
    "plt.ylabel(\"loss metrics\")\n",
    "plt.legend(['loss', 'val_loss'])\n",
    "plt.savefig(\"loss_gru.jpg\")"
   ]
  },
  {
   "cell_type": "markdown",
   "metadata": {},
   "source": [
    "## Testing GRU-NN"
   ]
  },
  {
   "cell_type": "code",
   "execution_count": 28,
   "metadata": {},
   "outputs": [
    {
     "name": "stdout",
     "output_type": "stream",
     "text": [
      "126/126 [==============================] - 3s 11ms/step\n",
      "Mean Absolute error: 10.845757902387128\n",
      "Mean Absolute Percentage error: 0.21443019184120043\n",
      "Mean Squared error: 15.27434476074778\n",
      "R-Squared score: 0.9308224454345484\n",
      "Explained Variance score: 0.9322776179233965\n"
     ]
    }
   ],
   "source": [
    "y_pred_gru = gru_model.predict(x_test)\n",
    "\n",
    "y_real_pred_gru = scaler.inverse_transform(y_pred_gru)\n",
    " \n",
    "print(\"Mean Absolute error:\", mean_absolute_error(y_real, y_real_pred_gru))\n",
    "print(\"Mean Absolute Percentage error:\", mean_absolute_percentage_error(y_real, y_real_pred_gru))\n",
    "print(\"Mean Squared error:\", mean_squared_error(y_real, y_real_pred_gru, squared=False))\n",
    "print(\"R-Squared score:\", r2_score(y_real, y_real_pred_gru))\n",
    "print(\"Explained Variance score:\", explained_variance_score(y_real, y_real_pred_gru))"
   ]
  },
  {
   "cell_type": "markdown",
   "metadata": {},
   "source": [
    "# Machine Learning Models"
   ]
  },
  {
   "cell_type": "code",
   "execution_count": 16,
   "metadata": {},
   "outputs": [],
   "source": [
    "def array3dto2d(array):\n",
    "    return array.reshape(array.shape[0], (array.shape[1]*array.shape[2]))\n",
    "\n",
    "x_train2d = array3dto2d(x_train)\n",
    "x_test2d = array3dto2d(x_test)"
   ]
  },
  {
   "cell_type": "markdown",
   "metadata": {},
   "source": [
    "## Linear Regression"
   ]
  },
  {
   "cell_type": "code",
   "execution_count": 17,
   "metadata": {},
   "outputs": [
    {
     "name": "stdout",
     "output_type": "stream",
     "text": [
      "Mean Absolute error: 10.71465980579633\n",
      "Mean Absolute Percentage error: 0.22798158251398565\n",
      "Mean Squared error: 15.259452852929437\n",
      "R-Squared score: 0.9314946611234465\n",
      "Explained Variance score: 0.9315809657755724\n"
     ]
    }
   ],
   "source": [
    "from sklearn.linear_model import LinearRegression\n",
    "\n",
    "linear_regression_model = LinearRegression().fit(x_train2d, y_train)\n",
    "linear_regression_prediction = linear_regression_model.predict(x_test2d)\n",
    "\n",
    "y_real_pred_lr = scaler.inverse_transform(linear_regression_prediction)\n",
    "\n",
    "print(\"Mean Absolute error:\", mean_absolute_error(y_real, y_real_pred_lr))\n",
    "print(\"Mean Absolute Percentage error:\", mean_absolute_percentage_error(y_real, y_real_pred_lr))\n",
    "print(\"Mean Squared error:\", mean_squared_error(y_real, y_real_pred_lr, squared=False))\n",
    "print(\"R-Squared score:\", r2_score(y_real, y_real_pred_lr))\n",
    "print(\"Explained Variance score:\", explained_variance_score(y_real, y_real_pred_lr))"
   ]
  },
  {
   "cell_type": "markdown",
   "metadata": {},
   "source": [
    "## Gradient Boosting Regressor"
   ]
  },
  {
   "cell_type": "code",
   "execution_count": 18,
   "metadata": {},
   "outputs": [
    {
     "name": "stdout",
     "output_type": "stream",
     "text": [
      "Mean Absolute error: 10.870180659581173\n",
      "Mean Absolute Percentage error: 0.22501882793993233\n",
      "Mean Squared error: 15.520450188091582\n",
      "R-Squared score: 0.9302567153664071\n",
      "Explained Variance score: 0.9303702365279769\n"
     ]
    }
   ],
   "source": [
    "from sklearn.ensemble import GradientBoostingRegressor\n",
    "from sklearn.multioutput import MultiOutputRegressor\n",
    "\n",
    "gradient_boosting_regressor_model = MultiOutputRegressor(GradientBoostingRegressor(random_state=0)).fit(x_train2d, y_train)\n",
    "gradient_boosting_regressor_prediction = gradient_boosting_regressor_model.predict(x_test2d)\n",
    "\n",
    "y_real_pred_gbr = scaler.inverse_transform(gradient_boosting_regressor_prediction)\n",
    "\n",
    "print(\"Mean Absolute error:\", mean_absolute_error(y_real, y_real_pred_gbr))\n",
    "print(\"Mean Absolute Percentage error:\", mean_absolute_percentage_error(y_real, y_real_pred_gbr))\n",
    "print(\"Mean Squared error:\", mean_squared_error(y_real, y_real_pred_gbr, squared=False))\n",
    "print(\"R-Squared score:\", r2_score(y_real, y_real_pred_gbr))\n",
    "print(\"Explained Variance score:\", explained_variance_score(y_real, y_real_pred_gbr))"
   ]
  },
  {
   "cell_type": "markdown",
   "metadata": {},
   "source": [
    "## MultiLayer Perceptron Regressor"
   ]
  },
  {
   "cell_type": "code",
   "execution_count": 20,
   "metadata": {},
   "outputs": [
    {
     "name": "stdout",
     "output_type": "stream",
     "text": [
      "Mean Absolute error: 11.183727757747286\n",
      "Mean Absolute Percentage error: 0.23284236394794786\n",
      "Mean Squared error: 15.79474246889842\n",
      "R-Squared score: 0.9254334684507739\n",
      "Explained Variance score: 0.9260582219240916\n"
     ]
    }
   ],
   "source": [
    "from sklearn.neural_network import MLPRegressor\n",
    "\n",
    "mlp_regressor_model = MLPRegressor(random_state=0).fit(x_train2d, y_train)\n",
    "mlp_regressor_prediction = mlp_regressor_model.predict(x_test2d)\n",
    "\n",
    "y_real_pred_mlpr = scaler.inverse_transform(mlp_regressor_prediction)\n",
    "\n",
    "print(\"Mean Absolute error:\", mean_absolute_error(y_real, y_real_pred_mlpr))\n",
    "print(\"Mean Absolute Percentage error:\", mean_absolute_percentage_error(y_real, y_real_pred_mlpr))\n",
    "print(\"Mean Squared error:\", mean_squared_error(y_real, y_real_pred_mlpr, squared=False))\n",
    "print(\"R-Squared score:\", r2_score(y_real, y_real_pred_mlpr))\n",
    "print(\"Explained Variance score:\", explained_variance_score(y_real, y_real_pred_mlpr))"
   ]
  },
  {
   "cell_type": "markdown",
   "metadata": {},
   "source": [
    "## Stochastic Gradient Descendent Regressor"
   ]
  },
  {
   "cell_type": "code",
   "execution_count": 21,
   "metadata": {},
   "outputs": [
    {
     "name": "stdout",
     "output_type": "stream",
     "text": [
      "Mean Absolute error: 11.74829963099881\n",
      "Mean Absolute Percentage error: 0.26079931185034494\n",
      "Mean Squared error: 16.8074534522024\n",
      "R-Squared score: 0.9152501009859436\n",
      "Explained Variance score: 0.9161564973474278\n"
     ]
    }
   ],
   "source": [
    "from sklearn.linear_model import SGDRegressor\n",
    "\n",
    "sgd_regressor_model = MultiOutputRegressor(SGDRegressor(random_state=0)).fit(x_train2d, y_train)\n",
    "sgd_regressor_prediction = sgd_regressor_model.predict(x_test2d)\n",
    "\n",
    "y_real_pred_sgdr = scaler.inverse_transform(sgd_regressor_prediction)\n",
    "\n",
    "print(\"Mean Absolute error:\", mean_absolute_error(y_real, y_real_pred_sgdr))\n",
    "print(\"Mean Absolute Percentage error:\", mean_absolute_percentage_error(y_real, y_real_pred_sgdr))\n",
    "print(\"Mean Squared error:\", mean_squared_error(y_real, y_real_pred_sgdr, squared=False))\n",
    "print(\"R-Squared score:\", r2_score(y_real, y_real_pred_sgdr))\n",
    "print(\"Explained Variance score:\", explained_variance_score(y_real, y_real_pred_sgdr))"
   ]
  },
  {
   "cell_type": "markdown",
   "metadata": {},
   "source": [
    "## Random Forest Regressor"
   ]
  },
  {
   "cell_type": "code",
   "execution_count": 22,
   "metadata": {},
   "outputs": [
    {
     "name": "stdout",
     "output_type": "stream",
     "text": [
      "Mean Absolute error: 12.179725119576856\n",
      "Mean Absolute Percentage error: 0.2393119828082888\n",
      "Mean Squared error: 18.565119295436972\n",
      "R-Squared score: 0.8961775603045601\n",
      "Explained Variance score: 0.8975877988094121\n"
     ]
    }
   ],
   "source": [
    "from sklearn.ensemble import RandomForestRegressor\n",
    "\n",
    "random_forest_regressor_model = RandomForestRegressor(random_state=0).fit(x_train2d, y_train)\n",
    "random_forest_regressor_prediction = random_forest_regressor_model.predict(x_test2d)\n",
    "\n",
    "y_real_pred_rfr = scaler.inverse_transform(random_forest_regressor_prediction)\n",
    "\n",
    "print(\"Mean Absolute error:\", mean_absolute_error(y_real, y_real_pred_rfr))\n",
    "print(\"Mean Absolute Percentage error:\", mean_absolute_percentage_error(y_real, y_real_pred_rfr))\n",
    "print(\"Mean Squared error:\", mean_squared_error(y_real, y_real_pred_rfr, squared=False))\n",
    "print(\"R-Squared score:\", r2_score(y_real, y_real_pred_rfr))\n",
    "print(\"Explained Variance score:\", explained_variance_score(y_real, y_real_pred_rfr))"
   ]
  }
 ],
 "metadata": {
  "kernelspec": {
   "display_name": "Python 3.9.12 ('base')",
   "language": "python",
   "name": "python3"
  },
  "language_info": {
   "codemirror_mode": {
    "name": "ipython",
    "version": 3
   },
   "file_extension": ".py",
   "mimetype": "text/x-python",
   "name": "python",
   "nbconvert_exporter": "python",
   "pygments_lexer": "ipython3",
   "version": "3.9.12"
  },
  "orig_nbformat": 4,
  "vscode": {
   "interpreter": {
    "hash": "5e1003431ffaf7ede86a3f1a398312c7d1bbb13de8cad98e0a1dc871d27342b2"
   }
  }
 },
 "nbformat": 4,
 "nbformat_minor": 2
}
