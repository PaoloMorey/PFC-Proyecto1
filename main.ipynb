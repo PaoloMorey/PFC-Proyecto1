{
 "cells": [
  {
   "cell_type": "markdown",
   "metadata": {},
   "source": [
    "# Data preprocessing"
   ]
  },
  {
   "cell_type": "code",
   "execution_count": 48,
   "metadata": {},
   "outputs": [],
   "source": [
    "import csv\n",
    "import numpy as np\n",
    "from sklearn.preprocessing import MinMaxScaler\n",
    "from sklearn.metrics import mean_absolute_error, mean_absolute_percentage_error, mean_squared_error, r2_score, explained_variance_score\n",
    "\n",
    "data = []\n",
    "scaler = MinMaxScaler()\n",
    "\n",
    "def create_dataset(dataset, look_back=12):\n",
    "    dataX, dataY = [], []\n",
    "    for i in range(len(dataset)-look_back-1):\n",
    "        aux = dataset[i:(i+look_back)]\n",
    "        dataX.append(aux)\n",
    "        dataY.append(dataset[i + look_back])\n",
    "    return np.array(dataX), np.array(dataY)\n",
    "\n",
    "with open('./datasets/traffic-prediction-dataset.csv') as csv_file:\n",
    "    csv_reader = csv.reader(csv_file, delimiter=',')\n",
    "    next(csv_reader)\n",
    "    for row in csv_reader:\n",
    "        row_to_append = [float(x) for x in row[0:4]]\n",
    "        data.append(row_to_append)\n",
    "\n",
    "scaler.fit(data)\n",
    "normalized_data = scaler.transform(data)"
   ]
  },
  {
   "cell_type": "markdown",
   "metadata": {},
   "source": [
    "# Train and Test Sets"
   ]
  },
  {
   "cell_type": "code",
   "execution_count": 49,
   "metadata": {},
   "outputs": [],
   "source": [
    "train_size = int(len(normalized_data) * 0.75)\n",
    "test_size = len(normalized_data) - train_size\n",
    "\n",
    "train, test = normalized_data[0:train_size,:], normalized_data[train_size:len(normalized_data),:]\n",
    "x_train, y_train = create_dataset(train)\n",
    "x_test, y_test = create_dataset(test)"
   ]
  },
  {
   "cell_type": "markdown",
   "metadata": {},
   "source": [
    "# Recurrent Neural Networks"
   ]
  },
  {
   "cell_type": "markdown",
   "metadata": {},
   "source": [
    "## Training LSTM-NN"
   ]
  },
  {
   "cell_type": "code",
   "execution_count": null,
   "metadata": {},
   "outputs": [],
   "source": [
    "from keras import Input\n",
    "from keras.models import Sequential \n",
    "from keras.layers import Dense, Dropout, InputLayer\n",
    "from keras.layers import LSTM\n",
    "\n",
    "model = Sequential()\n",
    "model.add(InputLayer(input_shape=(12, 4)))\n",
    "model.add(LSTM(64, return_sequences=True))\n",
    "model.add(LSTM(64))\n",
    "model.add(Dropout(0.2))\n",
    "model.add(Dense(4, activation='sigmoid'))\n",
    "model.compile(loss='mean_squared_error', optimizer='rmsprop')\n",
    "model.summary()\n",
    "\n",
    "model.fit(x_train, y_train, epochs=50, batch_size=128)"
   ]
  },
  {
   "cell_type": "markdown",
   "metadata": {},
   "source": [
    "## Testing LSTM-NN"
   ]
  },
  {
   "cell_type": "code",
   "execution_count": null,
   "metadata": {},
   "outputs": [],
   "source": [
    "y_pred = model.predict(x_test)\n",
    "\n",
    "final_y_real = scaler.inverse_transform(y_test)\n",
    "final_y_pred = scaler.inverse_transform(y_pred)\n",
    "mean_absolute_error(final_y_real, final_y_pred)\n",
    "mean_absolute_percentage_error(final_y_real, final_y_pred) ## fix y_real values equal to 0\n",
    "mean_squared_error(final_y_real, final_y_pred, squared=False)\n",
    "r2_score(final_y_real, final_y_pred)\n",
    "explained_variance_score(final_y_real, final_y_pred)"
   ]
  },
  {
   "cell_type": "markdown",
   "metadata": {},
   "source": [
    "## Training GRU-NN"
   ]
  },
  {
   "cell_type": "code",
   "execution_count": null,
   "metadata": {},
   "outputs": [],
   "source": [
    "from keras.layers import GRU\n",
    "\n",
    "gru_model = Sequential()\n",
    "gru_model.add(InputLayer(input_shape=(12, 4)))\n",
    "gru_model.add(GRU(64, return_sequences=True))\n",
    "gru_model.add(GRU(64))\n",
    "gru_model.add(Dropout(0.2))\n",
    "gru_model.add(Dense(4))\n",
    "gru_model.compile(loss='mean_squared_error', optimizer='rmsprop')\n",
    "gru_model.summary()\n",
    "\n",
    "gru_model.fit(x_train, y_train, epochs=50, batch_size=128)"
   ]
  },
  {
   "cell_type": "markdown",
   "metadata": {},
   "source": [
    "## Testing GRU-NN"
   ]
  },
  {
   "cell_type": "code",
   "execution_count": null,
   "metadata": {},
   "outputs": [],
   "source": [
    "y_pred_gru = gru_model.predict(x_test)\n",
    "\n",
    "final_y_real_gru = scaler.inverse_transform(y_test)\n",
    "final_y_pred_gru = scaler.inverse_transform(y_pred_gru)\n",
    "mean_absolute_error(final_y_real_gru, final_y_pred_gru)\n",
    "mean_absolute_percentage_error(final_y_real_gru, final_y_pred_gru) ## fix y_real values equal to 0\n",
    "mean_squared_error(final_y_real_gru, final_y_pred_gru, squared=False)\n",
    "r2_score(final_y_real_gru, final_y_pred_gru)\n",
    "explained_variance_score(final_y_real_gru, final_y_pred_gru)"
   ]
  },
  {
   "cell_type": "markdown",
   "metadata": {},
   "source": [
    "# Machine Learning Models"
   ]
  },
  {
   "cell_type": "code",
   "execution_count": 34,
   "metadata": {},
   "outputs": [],
   "source": [
    "def array3dto2d(array):\n",
    "    return array.reshape(array.shape[0], (array.shape[1]*array.shape[2]))\n",
    "\n",
    "x_train2d = array3dto2d(x_train)\n",
    "x_test2d = array3dto2d(x_test)"
   ]
  },
  {
   "cell_type": "markdown",
   "metadata": {},
   "source": [
    "## Linear Regression"
   ]
  },
  {
   "cell_type": "code",
   "execution_count": 35,
   "metadata": {},
   "outputs": [],
   "source": [
    "from sklearn.linear_model import LinearRegression\n",
    "\n",
    "linear_regression_model = LinearRegression().fit(x_train2d, y_train)\n",
    "linear_regression_prediction = linear_regression_model.predict(x_test2d)"
   ]
  },
  {
   "cell_type": "markdown",
   "metadata": {},
   "source": [
    "## Gradient Boosting Regressor"
   ]
  },
  {
   "cell_type": "code",
   "execution_count": null,
   "metadata": {},
   "outputs": [],
   "source": [
    "from sklearn.ensemble import GradientBoostingRegressor\n",
    "from sklearn.multioutput import MultiOutputRegressor\n",
    "\n",
    "gradient_boosting_regressor_model = MultiOutputRegressor(GradientBoostingRegressor(random_state=0)).fit(x_train2d, y_train)\n",
    "gradient_boosting_regressor_prediction = gradient_boosting_regressor_model.predict(x_test2d)"
   ]
  },
  {
   "cell_type": "markdown",
   "metadata": {},
   "source": [
    "## MultiLayer Perceptron Regressor"
   ]
  },
  {
   "cell_type": "code",
   "execution_count": 44,
   "metadata": {},
   "outputs": [],
   "source": [
    "from sklearn.neural_network import MLPRegressor\n",
    "\n",
    "mlp_regressor_model = MLPRegressor(random_state=0).fit(x_train2d, y_train)\n",
    "mlp_regressor_prediction = mlp_regressor_model.predict(x_test2d)"
   ]
  },
  {
   "cell_type": "markdown",
   "metadata": {},
   "source": [
    "## Stochastic Gradient Descendent Regressor"
   ]
  },
  {
   "cell_type": "code",
   "execution_count": null,
   "metadata": {},
   "outputs": [],
   "source": [
    "from sklearn.linear_model import SGDRegressor\n",
    "\n",
    "sgd_regressor_model = MultiOutputRegressor(SGDRegressor(random_state=0)).fit(x_train2d, y_train)\n",
    "sgd_regressor_prediction = sgd_regressor_model.predict(x_test2d)"
   ]
  },
  {
   "cell_type": "markdown",
   "metadata": {},
   "source": [
    "## Random Forest Regressor"
   ]
  },
  {
   "cell_type": "code",
   "execution_count": null,
   "metadata": {},
   "outputs": [],
   "source": [
    "from sklearn.ensemble import RandomForestRegressor\n",
    "\n",
    "random_forest_regressor_model = RandomForestRegressor(random_state=0).fit(x_train2d, y_train)\n",
    "random_forest_regressor_model.predict(x_test2d)"
   ]
  }
 ],
 "metadata": {
  "kernelspec": {
   "display_name": "Python 3.9.12 ('base')",
   "language": "python",
   "name": "python3"
  },
  "language_info": {
   "codemirror_mode": {
    "name": "ipython",
    "version": 3
   },
   "file_extension": ".py",
   "mimetype": "text/x-python",
   "name": "python",
   "nbconvert_exporter": "python",
   "pygments_lexer": "ipython3",
   "version": "3.9.12"
  },
  "orig_nbformat": 4,
  "vscode": {
   "interpreter": {
    "hash": "5e1003431ffaf7ede86a3f1a398312c7d1bbb13de8cad98e0a1dc871d27342b2"
   }
  }
 },
 "nbformat": 4,
 "nbformat_minor": 2
}
